{
 "cells": [
  {
   "cell_type": "code",
   "execution_count": null,
   "metadata": {},
   "outputs": [],
   "source": [
    "from scipy.fftpack import rfft, irfft, fftfreq\n",
    "\n",
    "time   = sp.linspace(0,10,2000)\n",
    "signal = sp.sin(2*sp.pi*time) + sp.sin(8*sp.pi*time)\n",
    "\n",
    "W = fftfreq(signal.size, d=time[1]-time[0])\n",
    "f_signal = rfft(signal)\n",
    "\n",
    "# If our original signal time was in seconds, this is now in Hz    \n",
    "cut_f_signal = f_signal.copy()\n",
    "cut_f_signal[(W>5)] = 0\n",
    "\n",
    "cut_signal = irfft(cut_f_signal)"
   ]
  },
  {
   "cell_type": "code",
   "execution_count": null,
   "metadata": {},
   "outputs": [],
   "source": [
    "pl.subplot(221)\n",
    "pl.plot(time,signal)\n",
    "pl.subplot(222)\n",
    "pl.plot(W,f_signal)\n",
    "pl.xlim(0,10)\n",
    "pl.subplot(223)\n",
    "pl.plot(W,cut_f_signal)\n",
    "pl.xlim(0,10)\n",
    "pl.subplot(224)\n",
    "pl.plot(time,cut_signal)\n",
    "pl.show()"
   ]
  }
 ],
 "metadata": {
  "kernelspec": {
   "display_name": "Python 2",
   "language": "python",
   "name": "python2"
  },
  "language_info": {
   "codemirror_mode": {
    "name": "ipython",
    "version": 2
   },
   "file_extension": ".py",
   "mimetype": "text/x-python",
   "name": "python",
   "nbconvert_exporter": "python",
   "pygments_lexer": "ipython2",
   "version": "2.7.14"
  }
 },
 "nbformat": 4,
 "nbformat_minor": 2
}
