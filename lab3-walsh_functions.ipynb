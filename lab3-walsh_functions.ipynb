{
 "cells": [
  {
   "cell_type": "markdown",
   "metadata": {},
   "source": [
    "# Walsh transformations"
   ]
  },
  {
   "cell_type": "markdown",
   "metadata": {},
   "source": [
    "## Initializing"
   ]
  },
  {
   "cell_type": "code",
   "execution_count": null,
   "metadata": {},
   "outputs": [],
   "source": [
    "import scipy as sp\n",
    "import pylab as pl\n",
    "import cmath as cm\n",
    "import numpy as np \n",
    "\n",
    "def source_function(x):\n",
    "    return x #sp.sin(3*x) * x - x*x\n",
    "\n",
    "y2a = lambda x, n: sum(1<<(n-1-i) for i in range(n) if (x ^ (x>>1))>>i&1)\n",
    "\n",
    "source_function = (lambda x: sp.sin(6*x) + sp.cos(5*x))\n",
    "source_function_period = sp.pi * 2\n",
    "N = 8\n",
    "source_x = sp.arange(0, source_function_period, (source_function_period/N))\n",
    "\n",
    "def reverse(m):\n",
    "    r = []\n",
    "    for i in range(len(m)):\n",
    "        r += [[]]\n",
    "        for j in range(len(m[i])):\n",
    "            r[i] += [-m[i][j]]\n",
    "    return r\n",
    "\n",
    "def adamaro(n):\n",
    "    if (n == 0):\n",
    "        return 1\n",
    "    else:\n",
    "        if (n == 1):\n",
    "            return [[1, 1], [1, -1]]\n",
    "        else:\n",
    "            p = adamaro(n-1)\n",
    "            r = reverse(p)\n",
    "            res = []\n",
    "            for i in range(len(p)):\n",
    "                res += [p[i] + p[i]]\n",
    "            for i in range(len(p)):\n",
    "                res += [p[i] + r[i]]\n",
    "            return res\n",
    "\n",
    "print(sp.matrix(adamaro(3)))"
   ]
  },
  {
   "cell_type": "markdown",
   "metadata": {},
   "source": [
    "## Source plot"
   ]
  },
  {
   "cell_type": "code",
   "execution_count": null,
   "metadata": {
    "scrolled": false
   },
   "outputs": [],
   "source": [
    "source_y = sp.vectorize(source_function)(source_x)\n",
    "\n",
    "\n",
    "pl.figure(figsize = (15/2. , 5))\n",
    "pl.title(\"Source function: sin(6x) + cos(5x)\")\n",
    "pl.plot(source_x, source_y)\n",
    "pl.grid()\n",
    "pl.show()"
   ]
  },
  {
   "cell_type": "markdown",
   "metadata": {},
   "source": [
    "## Walsh functions"
   ]
  },
  {
   "cell_type": "code",
   "execution_count": null,
   "metadata": {},
   "outputs": [],
   "source": [
    "walsh_funs = [\n",
    "    lambda t: 1,\n",
    "    lambda t: 1 if not t%2 else -1,\n",
    "    lambda t: 1 if t==0 or t==1 or t==4 or t==5 else -1,\n",
    "    lambda t: 1 if t==0 or t==3 or t==4 or t==7 else -1,\n",
    "    lambda t: 1 if t<4 else -1,\n",
    "    lambda t: 1 if t==0 or t==2 or t==5 or t==7 else -1,\n",
    "    lambda t: 1 if t==0 or t==1 or t==6 or t==7 else -1,\n",
    "    lambda t: 1 if t==0 or t==3 or t==5 or t==6 else -1\n",
    "]\n",
    "# for i in range(0,8):\n",
    "#     for j in range(0,8):\n",
    "#         print(walsh_funs[i](j))\n",
    "#     print(\"\\n\")\n"
   ]
  },
  {
   "cell_type": "markdown",
   "metadata": {},
   "source": [
    "## Reverse walsh transformation"
   ]
  },
  {
   "cell_type": "code",
   "execution_count": null,
   "metadata": {},
   "outputs": [],
   "source": [
    "def reverse_transformation(data, n, period):\n",
    "    result = []\n",
    "    float_n = float(n)\n",
    "    for k in range(n):\n",
    "        result.append(0)\n",
    "        for i in range(n):\n",
    "            result[k] += data[i] * walsh_funs[k](i)\n",
    "    return result"
   ]
  },
  {
   "cell_type": "markdown",
   "metadata": {},
   "source": [
    "## Discrete walsh transformation"
   ]
  },
  {
   "cell_type": "code",
   "execution_count": null,
   "metadata": {},
   "outputs": [],
   "source": [
    "def discrete_transformation(f, n, period):\n",
    "    discrete_result = []\n",
    "    sum_count = 0\n",
    "    mul_count = 0\n",
    "    float_n = float(n)\n",
    "    for k in range(n):\n",
    "        discrete_result.append(0)\n",
    "        for i in range(n):\n",
    "            discrete_result[k] += walsh_funs[k](i) * f(period * (i/float_n))\n",
    "            sum_count += 1\n",
    "            mul_count += 1\n",
    "        discrete_result[k] /= float_n\n",
    "    return (discrete_result, sum_count, mul_count)\n",
    "\n",
    "discrete_result, sum_count, mul_count = discrete_transformation(source_function, N, source_function_period)\n",
    "\n",
    "discrete_y = map(lambda x: abs(x), discrete_result)\n",
    "discrete_reverset_y = reverse_transformation(discrete_result, N, source_function_period)\n",
    "\n",
    "pl.figure(figsize = (15 , 5))\n",
    "\n",
    "pl.subplot(1, 2, 1)\n",
    "pl.plot(source_x, discrete_y)\n",
    "pl.title(\"Discrete transformation\")\n",
    "pl.grid()\n",
    "\n",
    "pl.subplot(1, 2, 2)\n",
    "pl.plot(source_x, discrete_reverset_y)\n",
    "pl.title(\"Reversed discrete transformation\")\n",
    "pl.grid()\n",
    "pl.show()\n",
    "\n",
    "print(\"Sum: %d, mul: %d\" % (sum_count, mul_count))"
   ]
  },
  {
   "cell_type": "markdown",
   "metadata": {},
   "source": [
    "## Fast walsh transformation"
   ]
  },
  {
   "cell_type": "code",
   "execution_count": null,
   "metadata": {},
   "outputs": [],
   "source": [
    "def fast_transformation(f, N, period):\n",
    "    source_data = []\n",
    "    float_n = float(N)\n",
    "    for i in range(N):\n",
    "        source_data.append(complex(f(period * i/float_n)))\n",
    "    result = fast_transformation_recursive(source_data, period)\n",
    "    return ([x/N for x in result[0]], result[1], result[2])\n",
    "\n",
    "def fast_transformation_recursive(data_set, period):\n",
    "    n = len(data_set)\n",
    "    if n == 1: \n",
    "        return (data_set, 0, 0)\n",
    "    even, odd = [], []\n",
    "    for i in range(n):\n",
    "        if i%2 == 0:\n",
    "            even.append(data_set[i])\n",
    "        else:\n",
    "            odd.append(data_set[i])\n",
    "            \n",
    "    even_result, sum_count_even, mul_count_even = fast_transformation_recursive(even, period)\n",
    "    odd_result, sum_count_odd, mul_count_odd = fast_transformation_recursive(odd, period)\n",
    "    sum_count = sum_count_even + sum_count_odd\n",
    "    mul_count = mul_count_even + mul_count_odd\n",
    "    result = [0+0j] * n\n",
    "    Wn = complex(sp.cos(period / n), sp.sin(period / n))\n",
    "    w = complex(1, 0)\n",
    "    for i in range(n / 2):\n",
    "        result[i] = even_result[i] + w * odd_result[i]\n",
    "        result[i + n / 2] = even_result[i] - w * odd_result[i]\n",
    "        w *= Wn\n",
    "        sum_count += 2\n",
    "        mul_count += 1\n",
    "    return (result, sum_count, mul_count)\n",
    "\n",
    "fast_result, sum_count, mul_count = fast_transformation(source_function, N, source_function_period)\n",
    "\n",
    "fast_y = map(lambda x: abs(x), fast_result)\n",
    "fast_reverset_y = reverse_transformation(fast_result, N, source_function_period)\n",
    "\n",
    "pl.figure(figsize = (15 , 5))\n",
    "\n",
    "pl.subplot(1, 2, 1)\n",
    "pl.plot(source_x, fast_y)\n",
    "pl.title(\"Fast transformation\")\n",
    "pl.grid()\n",
    "\n",
    "pl.subplot(1, 2, 2)\n",
    "pl.plot(source_x, fast_reverset_y)\n",
    "pl.title(\"Reversed fast transformation\")\n",
    "pl.grid()\n",
    "pl.show()\n",
    "\n",
    "print(\"Sum: %d, mul: %d\" % (sum_count, mul_count))"
   ]
  }
 ],
 "metadata": {
  "kernelspec": {
   "display_name": "Python 2",
   "language": "python",
   "name": "python2"
  },
  "language_info": {
   "codemirror_mode": {
    "name": "ipython",
    "version": 2
   },
   "file_extension": ".py",
   "mimetype": "text/x-python",
   "name": "python",
   "nbconvert_exporter": "python",
   "pygments_lexer": "ipython2",
   "version": "2.7.14"
  }
 },
 "nbformat": 4,
 "nbformat_minor": 2
}
