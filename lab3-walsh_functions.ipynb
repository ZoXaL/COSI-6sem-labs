{
 "cells": [
  {
   "cell_type": "markdown",
   "metadata": {},
   "source": [
    "# Walsh transformations"
   ]
  },
  {
   "cell_type": "markdown",
   "metadata": {},
   "source": [
    "## Initializing"
   ]
  },
  {
   "cell_type": "code",
   "execution_count": null,
   "metadata": {},
   "outputs": [],
   "source": [
    "import scipy as sp\n",
    "import pylab as pl\n",
    "import cmath as cm\n",
    "import copy as cp\n",
    "\n",
    "\n",
    "source_function = (lambda x: sp.sin(6*x) + sp.cos(5*x))\n",
    "source_function_period = sp.pi * 2\n",
    "N = 256\n",
    "log2N = int(sp.log2(N))"
   ]
  },
  {
   "cell_type": "markdown",
   "metadata": {},
   "source": [
    "## Source plot"
   ]
  },
  {
   "cell_type": "code",
   "execution_count": null,
   "metadata": {
    "scrolled": false
   },
   "outputs": [],
   "source": [
    "source_x = sp.arange(0, source_function_period, (source_function_period/N))\n",
    "source_y = sp.vectorize(source_function)(source_x)\n",
    "\n",
    "\n",
    "pl.figure(figsize = (15/2. , 5))\n",
    "pl.title(\"Source function: sin(6x) + cos(5x)\")\n",
    "pl.plot(source_x, source_y)\n",
    "pl.grid()\n",
    "pl.show()"
   ]
  },
  {
   "cell_type": "markdown",
   "metadata": {},
   "source": [
    "## Walsh functions"
   ]
  },
  {
   "cell_type": "code",
   "execution_count": null,
   "metadata": {},
   "outputs": [],
   "source": [
    "def reverse(m):\n",
    "    r = []\n",
    "    for i in range(len(m)):\n",
    "        r += [[]]\n",
    "        for j in range(len(m[i])):\n",
    "            r[i] += [-m[i][j]]\n",
    "    return r\n",
    "\n",
    "def adamaro(n):\n",
    "    if (n == 0):\n",
    "        return 1\n",
    "    else:\n",
    "        if (n == 1):\n",
    "            return [[1, 1], [1, -1]]\n",
    "        else:\n",
    "            p = adamaro(n-1)\n",
    "            r = reverse(p)\n",
    "            res = []\n",
    "            for i in range(len(p)):\n",
    "                res += [p[i] + p[i]]\n",
    "            for i in range(len(p)):\n",
    "                res += [p[i] + r[i]]\n",
    "            return res\n",
    "\n",
    "w2a = lambda x, n: sum(1<<(n-1-i) for i in range(n) if (x ^ (x>>1)) >> i&1)\n",
    "\n",
    "ad_matrix = adamaro(log2N)\n",
    "\n",
    "def get_walsh_adamaro(n, x):\n",
    "    return ad_matrix[w2a(n, log2N)][x]\n",
    "\n",
    "def get_walsh_walsh(n, x):\n",
    "    return ad_matrix[n][x]\n",
    "\n",
    "get_walsh = lambda n, x: get_walsh_walsh(n, x)\n",
    "\n",
    "# print(sp.matrix(ad_matrix))\n",
    "\n",
    "# for i in range(0,8):\n",
    "#     for j in range(0,8):\n",
    "#         print(\"W: %d; A: %d\" % (get_walsh_walsh(i, j), get_walsh_adamaro(i, j)))\n",
    "#     print(\"\\n\")"
   ]
  },
  {
   "cell_type": "markdown",
   "metadata": {},
   "source": [
    "## Reverse walsh transformation"
   ]
  },
  {
   "cell_type": "code",
   "execution_count": null,
   "metadata": {},
   "outputs": [],
   "source": [
    "def reverse_transformation(data, n, period):\n",
    "    result = []\n",
    "    float_n = float(n)\n",
    "    for k in range(n):\n",
    "        result.append(0)\n",
    "        for i in range(n):\n",
    "            result[k] += data[i] * get_walsh(k, i)\n",
    "    return result"
   ]
  },
  {
   "cell_type": "markdown",
   "metadata": {},
   "source": [
    "## Discrete walsh transformation"
   ]
  },
  {
   "cell_type": "code",
   "execution_count": null,
   "metadata": {},
   "outputs": [],
   "source": [
    "def discrete_transformation(f, n, period):\n",
    "    discrete_result = []\n",
    "    float_n = float(n)\n",
    "    for k in range(n):\n",
    "        discrete_result.append(0)\n",
    "        for i in range(n):\n",
    "            discrete_result[k] += get_walsh(k, i) * f(period * (i/float_n))\n",
    "        discrete_result[k] /= float_n\n",
    "    return discrete_result\n",
    "\n",
    "discrete_result = discrete_transformation(source_function, N, source_function_period)\n",
    "\n",
    "discrete_y = map(lambda x: abs(x), discrete_result)\n",
    "discrete_reverset_y = reverse_transformation(discrete_result, N, source_function_period)\n",
    "\n",
    "pl.figure(figsize = (15 , 5))\n",
    "\n",
    "pl.subplot(1, 2, 1)\n",
    "pl.plot(source_x, discrete_y)\n",
    "pl.title(\"Discrete transformation\")\n",
    "pl.grid()\n",
    "\n",
    "pl.subplot(1, 2, 2)\n",
    "pl.plot(source_x, discrete_reverset_y)\n",
    "pl.title(\"Reversed discrete transformation\")\n",
    "pl.grid()\n",
    "pl.show()"
   ]
  },
  {
   "cell_type": "markdown",
   "metadata": {},
   "source": [
    "## Fast walsh transformation"
   ]
  },
  {
   "cell_type": "code",
   "execution_count": null,
   "metadata": {},
   "outputs": [],
   "source": [
    "def fast_walsh(f, N, period):\n",
    "    source_data_set = []\n",
    "    for i in range(N):\n",
    "        source_data_set.append(f((float(period)/N) * i))\n",
    "    return [x/N for x in fast_walsh_recursive(source_data_set)]\n",
    "\n",
    "def fast_walsh_recursive(data_set):\n",
    "    n = len(data_set)/2\n",
    "    if n == 1: \n",
    "        return [data_set[0] + data_set[1], data_set[0] - data_set[1]]\n",
    "    else:\n",
    "        top_data_set = []\n",
    "        bot_data_set = []\n",
    "        for i in range(n):\n",
    "            top_data_set.append(data_set[i] + data_set[i+n])\n",
    "        for i in range(n):\n",
    "            bot_data_set.append(data_set[i] - data_set[i-n])\n",
    "        return fast_walsh_recursive(top_data_set) + fast_walsh_recursive(bot_data_set)\n",
    "\n",
    "fast_result = fast_walsh(source_function, N, source_function_period)\n",
    "\n",
    "fast_y = map(lambda x: abs(x), fast_result)\n",
    "fast_reverset_y = reverse_transformation(fast_result, N, source_function_period)\n",
    "\n",
    "pl.figure(figsize = (15 , 5))\n",
    "\n",
    "pl.subplot(1, 2, 1)\n",
    "pl.plot(source_x, fast_y)\n",
    "pl.title(\"Fast transformation\")\n",
    "pl.grid()\n",
    "\n",
    "pl.subplot(1, 2, 2)\n",
    "pl.plot(source_x, fast_reverset_y)\n",
    "pl.title(\"Reversed fast transformation\")\n",
    "pl.grid()\n",
    "pl.show()"
   ]
  }
 ],
 "metadata": {
  "kernelspec": {
   "display_name": "Python 2",
   "language": "python",
   "name": "python2"
  },
  "language_info": {
   "codemirror_mode": {
    "name": "ipython",
    "version": 2
   },
   "file_extension": ".py",
   "mimetype": "text/x-python",
   "name": "python",
   "nbconvert_exporter": "python",
   "pygments_lexer": "ipython2",
   "version": "2.7.14"
  }
 },
 "nbformat": 4,
 "nbformat_minor": 2
}
