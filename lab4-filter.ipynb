{
 "cells": [
  {
   "cell_type": "markdown",
   "metadata": {},
   "source": [
    "# Fourier transformations"
   ]
  },
  {
   "cell_type": "markdown",
   "metadata": {},
   "source": [
    "## Initializing"
   ]
  },
  {
   "cell_type": "code",
   "execution_count": null,
   "metadata": {
    "scrolled": true
   },
   "outputs": [],
   "source": [
    "import scipy as sp\n",
    "import pylab as pl\n",
    "import cmath as cm\n",
    "\n",
    "def source_function(x):\n",
    "    return x #sp.sin(3*x) * x - x*x\n",
    "\n",
    "source_function = lambda x: sp.sin(2 * sp.pi * 2 * x) #(lambda x: sp.sin(6*x) + sp.cos(5*x))\n",
    "noise_function = lambda x: 0.1 * sp.sin(2 * sp.pi * 15 * x) + 0.05 * sp.sin(2 * sp.pi * 10 * x) + 0.05 * sp.cos(2 * sp.pi * 20 * x)\n",
    "result_function = lambda x: source_function(x) + noise_function(x)\n",
    "source_function_period = 2.0\n",
    "N = 200\n",
    "#source_x = sp.arange(0, source_function_period, (source_function_period/N))\n",
    "result_x = sp.arange(0, N, 1)\n",
    "\n",
    "source_x = sp.arange(0, source_function_period, (source_function_period/N))\n",
    "source_y = sp.vectorize(source_function)(source_x)\n",
    "noise_y = sp.vectorize(result_function)(source_x)\n",
    "\n",
    "pl.figure(figsize = (15 , 5))\n",
    "\n",
    "pl.subplot(1, 2, 1)\n",
    "pl.plot(source_x, source_y)\n",
    "pl.title(\"Source function\")\n",
    "pl.grid()\n",
    "\n",
    "pl.subplot(1, 2, 2)\n",
    "pl.plot(source_x, noise_y)\n",
    "pl.title(\"Noised function\")\n",
    "pl.grid()\n",
    "pl.show()\n"
   ]
  },
  {
   "cell_type": "markdown",
   "metadata": {},
   "source": [
    "## Filter characteristics"
   ]
  },
  {
   "cell_type": "code",
   "execution_count": null,
   "metadata": {
    "scrolled": true
   },
   "outputs": [],
   "source": [
    "filter_power = N/(2*(int)(source_function_period))\n",
    "\n",
    "def reverse_transformation(data):\n",
    "    result = []\n",
    "    n = len(data)\n",
    "    for i in range(n):\n",
    "        result.append(0)\n",
    "        for j in range(n):\n",
    "            result[i] += data[j] * sp.cos(2 * sp.pi * i * (-j)/float(n))\n",
    "    return sp.roll([x/n for x in result], n/2)\n",
    "\n",
    "def transient_characteristic(x, bandwith = 5, power = filter_power):\n",
    "    if (x < bandwith or (x > power-bandwith and x < power)):\n",
    "    #if (x < bandwith):\n",
    "        return 1\n",
    "    else:\n",
    "        return 0\n",
    "\n",
    "fourier_x = sp.arange(0, filter_power, 1)\n",
    "transient_y = sp.vectorize(transient_characteristic)(fourier_x)\n",
    "\n",
    "impulse_y = reverse_transformation(transient_y)\n",
    "\n",
    "# noise_y = sp.vectorize(result_function)(source_x)\n",
    "\n",
    "pl.figure(figsize = (15 , 5))\n",
    "\n",
    "pl.subplot(1, 2, 1)\n",
    "pl.plot(fourier_x, transient_y)\n",
    "pl.title(\"Transient characteristic\")\n",
    "pl.grid()\n",
    "\n",
    "pl.subplot(1, 2, 2)\n",
    "pl.plot(fourier_x, impulse_y)\n",
    "pl.title(\"Impulse characteristic\")\n",
    "pl.grid()\n",
    "\n",
    "pl.show()"
   ]
  },
  {
   "cell_type": "code",
   "execution_count": null,
   "metadata": {},
   "outputs": [],
   "source": [
    "def discrete_transformation(data):\n",
    "    n = len(data)\n",
    "    discrete_result = [0] * n\n",
    "    for i in range(n):\n",
    "        for j in range(n):\n",
    "            discrete_result[i] += complex(\n",
    "                sp.cos(2 * sp.pi * i * (j/float(n))), \n",
    "                sp.sin(2 * sp.pi * i * (j/float(n)))\n",
    "            ) * data[j]\n",
    "    return [abs(x) for x  in discrete_result]\n",
    "\n",
    "source_fourier_x = sp.arange(0, N, 1)\n",
    "source_reverse_y = map(lambda x: x/(N/2), discrete_transformation(noise_y))\n",
    "\n",
    "impulse_discrete_reversed = discrete_transformation(impulse_y)\n",
    "\n",
    "pl.figure(figsize = (15 , 5))\n",
    "\n",
    "pl.subplot(1, 2, 1)\n",
    "pl.plot(source_fourier_x, source_reverse_y)\n",
    "pl.title(\"Source function transformed\")\n",
    "pl.grid()\n",
    "\n",
    "pl.subplot(1, 2, 2)\n",
    "pl.plot(fourier_x, impulse_discrete_reversed)\n",
    "pl.title(\"Filtering result\")\n",
    "pl.grid()\n",
    "pl.show()"
   ]
  },
  {
   "cell_type": "markdown",
   "metadata": {},
   "source": [
    "## Filtering"
   ]
  },
  {
   "cell_type": "code",
   "execution_count": null,
   "metadata": {},
   "outputs": [],
   "source": [
    "def convolution(f, g, N, M):\n",
    "    con = [0] * N\n",
    "    for i in range(0, (int)(N)):\n",
    "        for j in range(min(i, M)):\n",
    "#             print(\"i: %d, j: %d\" % (i, j))\n",
    "            f_x = (i-j)\n",
    "            con[i] += f[f_x] * g[j]\n",
    "    return [x for x in con]\n",
    "\n",
    "filtering_result = convolution(noise_y, impulse_y, N, filter_power)\n",
    "\n",
    "pl.figure(figsize = (15 , 5))\n",
    "\n",
    "pl.subplot(1, 2, 1)\n",
    "pl.plot(source_x, noise_y)\n",
    "pl.title(\"Source function\")\n",
    "pl.grid()\n",
    "\n",
    "pl.subplot(1, 2, 2)\n",
    "pl.plot(source_x, filtering_result)\n",
    "pl.title(\"Filtering result\")\n",
    "pl.grid()\n",
    "pl.show()"
   ]
  }
 ],
 "metadata": {
  "kernelspec": {
   "display_name": "Python 2",
   "language": "python",
   "name": "python2"
  },
  "language_info": {
   "codemirror_mode": {
    "name": "ipython",
    "version": 2
   },
   "file_extension": ".py",
   "mimetype": "text/x-python",
   "name": "python",
   "nbconvert_exporter": "python",
   "pygments_lexer": "ipython2",
   "version": "2.7.14"
  }
 },
 "nbformat": 4,
 "nbformat_minor": 2
}
